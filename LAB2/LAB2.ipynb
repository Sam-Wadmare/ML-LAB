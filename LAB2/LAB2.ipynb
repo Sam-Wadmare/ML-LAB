{
 "cells": [
  {
   "cell_type": "code",
   "execution_count": 18,
   "id": "4c7f4757-317c-4d98-9a4f-be6d1fbddd21",
   "metadata": {},
   "outputs": [],
   "source": [
    "import os\n",
    "import numpy as np\n",
    "import pandas as pd\n",
    "import matplotlib.pyplot as plt\n",
    "import seaborn as sns"
   ]
  },
  {
   "cell_type": "code",
   "execution_count": 26,
   "id": "8b2bc59d-25a6-4305-875b-fbd2a9cfb9a5",
   "metadata": {},
   "outputs": [],
   "source": [
    "df = pd.read_csv(r'C:\\Users\\admin\\TY-B44-ML\\mtcars-parquet.csv', encoding=\"ISO-8859-1\")\n"
   ]
  },
  {
   "cell_type": "code",
   "execution_count": 27,
   "id": "0e348fe9-3e1f-45d4-9f27-3e59ca4559e0",
   "metadata": {},
   "outputs": [
    {
     "name": "stdout",
     "output_type": "stream",
     "text": [
      "First 5 rows\n",
      "               model   mpg  cyl   disp   hp  drat     wt   qsec  vs  am  gear  \\\n",
      "0          Mazda RX4  21.0    6  160.0  110  3.90  2.620  16.46   0   1     4   \n",
      "1      Mazda RX4 Wag  21.0    6  160.0  110  3.90  2.875  17.02   0   1     4   \n",
      "2         Datsun 710  22.8    4  108.0   93  3.85  2.320  18.61   1   1     4   \n",
      "3     Hornet 4 Drive  21.4    6  258.0  110  3.08  3.215  19.44   1   0     3   \n",
      "4  Hornet Sportabout  18.7    8  360.0  175  3.15  3.440  17.02   0   0     3   \n",
      "\n",
      "   carb  \n",
      "0     4  \n",
      "1     4  \n",
      "2     1  \n",
      "3     1  \n",
      "4     2  \n"
     ]
    }
   ],
   "source": [
    "print(\"First 5 rows\");\n",
    "print(df.head());"
   ]
  },
  {
   "cell_type": "code",
   "execution_count": 28,
   "id": "9af94b63-5c5a-4b4c-8bcb-511d8bfef901",
   "metadata": {},
   "outputs": [
    {
     "name": "stdout",
     "output_type": "stream",
     "text": [
      "<class 'pandas.core.frame.DataFrame'>\n",
      "RangeIndex: 32 entries, 0 to 31\n",
      "Data columns (total 12 columns):\n",
      " #   Column  Non-Null Count  Dtype  \n",
      "---  ------  --------------  -----  \n",
      " 0   model   32 non-null     object \n",
      " 1   mpg     32 non-null     float64\n",
      " 2   cyl     32 non-null     int64  \n",
      " 3   disp    32 non-null     float64\n",
      " 4   hp      32 non-null     int64  \n",
      " 5   drat    32 non-null     float64\n",
      " 6   wt      32 non-null     float64\n",
      " 7   qsec    32 non-null     float64\n",
      " 8   vs      32 non-null     int64  \n",
      " 9   am      32 non-null     int64  \n",
      " 10  gear    32 non-null     int64  \n",
      " 11  carb    32 non-null     int64  \n",
      "dtypes: float64(5), int64(6), object(1)\n",
      "memory usage: 3.1+ KB\n",
      "None\n"
     ]
    }
   ],
   "source": [
    "print(df.info());"
   ]
  },
  {
   "cell_type": "code",
   "execution_count": 29,
   "id": "3e91f5ac-4464-413a-818a-2f70949a7136",
   "metadata": {},
   "outputs": [
    {
     "name": "stdout",
     "output_type": "stream",
     "text": [
      "             mpg        cyl        disp          hp       drat         wt  \\\n",
      "count  32.000000  32.000000   32.000000   32.000000  32.000000  32.000000   \n",
      "mean   20.090625   6.187500  230.721875  146.687500   3.596563   3.217250   \n",
      "std     6.026948   1.785922  123.938694   68.562868   0.534679   0.978457   \n",
      "min    10.400000   4.000000   71.100000   52.000000   2.760000   1.513000   \n",
      "25%    15.425000   4.000000  120.825000   96.500000   3.080000   2.581250   \n",
      "50%    19.200000   6.000000  196.300000  123.000000   3.695000   3.325000   \n",
      "75%    22.800000   8.000000  326.000000  180.000000   3.920000   3.610000   \n",
      "max    33.900000   8.000000  472.000000  335.000000   4.930000   5.424000   \n",
      "\n",
      "            qsec         vs         am       gear     carb  \n",
      "count  32.000000  32.000000  32.000000  32.000000  32.0000  \n",
      "mean   17.848750   0.437500   0.406250   3.687500   2.8125  \n",
      "std     1.786943   0.504016   0.498991   0.737804   1.6152  \n",
      "min    14.500000   0.000000   0.000000   3.000000   1.0000  \n",
      "25%    16.892500   0.000000   0.000000   3.000000   2.0000  \n",
      "50%    17.710000   0.000000   0.000000   4.000000   2.0000  \n",
      "75%    18.900000   1.000000   1.000000   4.000000   4.0000  \n",
      "max    22.900000   1.000000   1.000000   5.000000   8.0000  \n"
     ]
    }
   ],
   "source": [
    "print(df.describe());"
   ]
  },
  {
   "cell_type": "code",
   "execution_count": 30,
   "id": "f99178a8-2707-4351-9b3e-de3188e9357c",
   "metadata": {},
   "outputs": [
    {
     "name": "stdout",
     "output_type": "stream",
     "text": [
      "Unique values in dataset:\n",
      "Unique values in model: ['Mazda RX4' 'Mazda RX4 Wag' 'Datsun 710' 'Hornet 4 Drive'\n",
      " 'Hornet Sportabout' 'Valiant' 'Duster 360' 'Merc 240D' 'Merc 230'\n",
      " 'Merc 280' 'Merc 280C' 'Merc 450SE' 'Merc 450SL' 'Merc 450SLC'\n",
      " 'Cadillac Fleetwood' 'Lincoln Continental' 'Chrysler Imperial' 'Fiat 128'\n",
      " 'Honda Civic' 'Toyota Corolla' 'Toyota Corona' 'Dodge Challenger'\n",
      " 'AMC Javelin' 'Camaro Z28' 'Pontiac Firebird' 'Fiat X1-9' 'Porsche 914-2'\n",
      " 'Lotus Europa' 'Ford Pantera L' 'Ferrari Dino' 'Maserati Bora'\n",
      " 'Volvo 142E']\n",
      "Unique values in mpg: [21.  22.8 21.4 18.7 18.1 14.3 24.4 19.2 17.8 16.4 17.3 15.2 10.4 14.7\n",
      " 32.4 30.4 33.9 21.5 15.5 13.3 27.3 26.  15.8 19.7 15. ]\n",
      "Unique values in cyl: [6 4 8]\n",
      "Unique values in disp: [160.  108.  258.  360.  225.  146.7 140.8 167.6 275.8 472.  460.  440.\n",
      "  78.7  75.7  71.1 120.1 318.  304.  350.  400.   79.  120.3  95.1 351.\n",
      " 145.  301.  121. ]\n",
      "Unique values in hp: [110  93 175 105 245  62  95 123 180 205 215 230  66  52  65  97 150  91\n",
      " 113 264 335 109]\n",
      "Unique values in drat: [3.9  3.85 3.08 3.15 2.76 3.21 3.69 3.92 3.07 2.93 3.   3.23 4.08 4.93\n",
      " 4.22 3.7  3.73 4.43 3.77 3.62 3.54 4.11]\n",
      "Unique values in wt: [2.62  2.875 2.32  3.215 3.44  3.46  3.57  3.19  3.15  4.07  3.73  3.78\n",
      " 5.25  5.424 5.345 2.2   1.615 1.835 2.465 3.52  3.435 3.84  3.845 1.935\n",
      " 2.14  1.513 3.17  2.77  2.78 ]\n",
      "Unique values in qsec: [16.46 17.02 18.61 19.44 20.22 15.84 20.   22.9  18.3  18.9  17.4  17.6\n",
      " 18.   17.98 17.82 17.42 19.47 18.52 19.9  20.01 16.87 17.3  15.41 17.05\n",
      " 16.7  16.9  14.5  15.5  14.6  18.6 ]\n",
      "Unique values in vs: [0 1]\n",
      "Unique values in am: [1 0]\n",
      "Unique values in gear: [4 3 5]\n",
      "Unique values in carb: [4 1 2 3 6 8]\n"
     ]
    }
   ],
   "source": [
    "print(\"Unique values in dataset:\")\n",
    "for column in df.columns:\n",
    "    print(f\"Unique values in {column}: {df[column].unique()}\")\n"
   ]
  },
  {
   "cell_type": "code",
   "execution_count": null,
   "id": "72bf93de-0057-4916-8345-aad6421185c0",
   "metadata": {},
   "outputs": [],
   "source": []
  }
 ],
 "metadata": {
  "kernelspec": {
   "display_name": "Python [conda env:base] *",
   "language": "python",
   "name": "conda-base-py"
  },
  "language_info": {
   "codemirror_mode": {
    "name": "ipython",
    "version": 3
   },
   "file_extension": ".py",
   "mimetype": "text/x-python",
   "name": "python",
   "nbconvert_exporter": "python",
   "pygments_lexer": "ipython3",
   "version": "3.13.5"
  }
 },
 "nbformat": 4,
 "nbformat_minor": 5
}
